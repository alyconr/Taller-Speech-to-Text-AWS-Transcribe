{
 "cells": [
  {
   "cell_type": "markdown",
   "metadata": {},
   "source": [
    "# 1. Preparación de Entorno"
   ]
  },
  {
   "cell_type": "code",
   "execution_count": 19,
   "metadata": {},
   "outputs": [],
   "source": [
    "from dotenv import load_dotenv\n",
    "\n",
    "import os\n",
    "\n",
    "# Carga las variables de entorno desde el archivo .env\n",
    "load_dotenv()\n",
    "\n",
    "bucket = \"datasetsaudio\"\n",
    "\n",
    "#Utilitario para manifrompular los servicios de AWS\n",
    "import boto3"
   ]
  },
  {
   "cell_type": "code",
   "execution_count": 20,
   "metadata": {},
   "outputs": [],
   "source": [
    "access_key_id = os.getenv('AWS_ACCESS_KEY_ID')\n",
    "secret_access_key = os.getenv('AWS_SECRET_ACCESS_KEY')\n",
    "region = os.getenv('AWS_DEFAULT_REGION')"
   ]
  },
  {
   "cell_type": "markdown",
   "metadata": {},
   "source": [
    "# 2. Conexión al servicio"
   ]
  },
  {
   "cell_type": "code",
   "execution_count": 68,
   "metadata": {},
   "outputs": [],
   "source": [
    "#Obtenemos el cliente de servicio\n",
    "transcribe = boto3.client(\n",
    "  \"transcribe\", #Servicio al que nos conectamos\n",
    "  aws_access_key_id = access_key_id, #Identificador de la clave\n",
    "  aws_secret_access_key = secret_access_key, #Contraseña de la clave\n",
    "  region_name = region #Región de la clave\n",
    ")"
   ]
  },
  {
   "cell_type": "code",
   "execution_count": 69,
   "metadata": {},
   "outputs": [],
   "source": [
    "#También necesitaremos el cliente del S3\n",
    "s3 = boto3.client(\n",
    "  \"s3\", #Servicio al que nos conectamos\n",
    "  aws_access_key_id = access_key_id, #Identificador de la clave\n",
    "  aws_secret_access_key = secret_access_key, #Contraseña de la clave\n",
    "  region_name = region #Región de la clave\n",
    ")"
   ]
  },
  {
   "cell_type": "markdown",
   "metadata": {},
   "source": [
    "# 3. Nombre del JOB"
   ]
  },
  {
   "cell_type": "code",
   "execution_count": 71,
   "metadata": {},
   "outputs": [
    {
     "name": "stdout",
     "output_type": "stream",
     "text": [
      "transcripcion-bda-20241021170243622703\n"
     ]
    }
   ],
   "source": [
    "#Importamos la librería que manipula la fecha y hora\n",
    "from datetime import datetime\n",
    "\n",
    "#Obtenemos la fecha y hora actual\n",
    "fecha = datetime.today()\n",
    "\n",
    "# Formateamos la fecha y hora\n",
    "# Extraemos:\n",
    "#\n",
    "# - El año: %Y\n",
    "# - El mes: %m\n",
    "# - El día: %d\n",
    "# - La hora: %H\n",
    "# - El minuto: %M\n",
    "# - El segundo: %S\n",
    "# - El microsegundo: %f\n",
    "fechaStr = fecha.strftime(\"%Y%m%d%H%M%S%f\")\n",
    "\n",
    "#Colocamos el nombre del JOB de la transcripción\n",
    "nombreDelJob = f\"transcripcion-bda-{fechaStr}\"\n",
    "\n",
    "#Verificamos\n",
    "print(nombreDelJob)"
   ]
  },
  {
   "cell_type": "markdown",
   "metadata": {},
   "source": [
    "# 4. Corte del audio"
   ]
  },
  {
   "cell_type": "code",
   "execution_count": 72,
   "metadata": {},
   "outputs": [],
   "source": [
    "#Descargamos el audio desde AWS\n",
    "s3.download_file(\n",
    "  bucket,\n",
    "  \"content/AUDIO_CALL_CENTER.wav\",\n",
    "  \"./content/AUDIO_CALL_CENTER.wav\"\n",
    ")"
   ]
  },
  {
   "cell_type": "code",
   "execution_count": 73,
   "metadata": {},
   "outputs": [],
   "source": [
    "#Definimos el tiempo de corte de los \"chunks\" (partes del audio)\n",
    "tiempoDeChunkMilisegundos = 5000"
   ]
  },
  {
   "cell_type": "code",
   "execution_count": 74,
   "metadata": {},
   "outputs": [],
   "source": [
    "#Utilitario para cortar el audio en partes\n",
    "from pydub import AudioSegment"
   ]
  },
  {
   "cell_type": "code",
   "execution_count": 75,
   "metadata": {},
   "outputs": [],
   "source": [
    "#Definimos el tiempo de corte de los \"chunks\" (partes del audio)\n",
    "tiempoDeChunkMilisegundos = 5000"
   ]
  },
  {
   "cell_type": "code",
   "execution_count": 76,
   "metadata": {},
   "outputs": [],
   "source": [
    "#Leemos el archivo de audio\n",
    "audio = AudioSegment.from_file(\"./content/AUDIO_CALL_CENTER.wav\")"
   ]
  },
  {
   "cell_type": "code",
   "execution_count": 77,
   "metadata": {},
   "outputs": [],
   "source": [
    "#Variable que acumula cada corte del archivo\n",
    "audioChunks = []"
   ]
  },
  {
   "cell_type": "code",
   "execution_count": 78,
   "metadata": {},
   "outputs": [],
   "source": [
    "#Cortamos el archivo, desde el bit \"0\", hasta el tamaño del audio [len(audio)], con un tamaño de corte \"tiempoDeChunkMilisegundos\"\n",
    "for i in range(0, len(audio), tiempoDeChunkMilisegundos):\n",
    "    #Obtenemos el corte desde el bit \"i\" hasta el bit \"i + tiempoDeChunkMilisegundos\"\n",
    "    chunk = audio[i : i + tiempoDeChunkMilisegundos]\n",
    "\n",
    "    #Definimos el nombre del archivo de esa parte del audio\n",
    "    archivoChunk = \"./content/chunk_\"+str(i)+\".wav\"\n",
    "\n",
    "    #Guardamos el archivo en formato \"wav\"\n",
    "    chunk.export(archivoChunk, format = \"wav\")\n",
    "\n",
    "    #Guardamos la ruta del archivo en\n",
    "    audioChunks.append(archivoChunk)"
   ]
  },
  {
   "cell_type": "code",
   "execution_count": 79,
   "metadata": {},
   "outputs": [
    {
     "data": {
      "text/plain": [
       "['./content/chunk_0.wav',\n",
       " './content/chunk_5000.wav',\n",
       " './content/chunk_10000.wav']"
      ]
     },
     "execution_count": 79,
     "metadata": {},
     "output_type": "execute_result"
    }
   ],
   "source": [
    "#Verificamos\n",
    "audioChunks"
   ]
  },
  {
   "cell_type": "code",
   "execution_count": 80,
   "metadata": {},
   "outputs": [],
   "source": [
    "#Definimos un indice\n",
    "i = 0"
   ]
  },
  {
   "cell_type": "code",
   "execution_count": 81,
   "metadata": {},
   "outputs": [],
   "source": [
    "#Subimos cada archivo a AWS\n",
    "for audioChunk in audioChunks:\n",
    "\n",
    "  #Subimos el archivo a AWS\n",
    "  s3.upload_file(\n",
    "    audioChunk,\n",
    "    bucket,\n",
    "    f\"audios/chunk_{i}.wav\"\n",
    "  )\n",
    "\n",
    "  #Aumentamos el indice en 1\n",
    "  i = i + 1"
   ]
  },
  {
   "cell_type": "markdown",
   "metadata": {},
   "source": [
    "# 5. Envío de consulta"
   ]
  },
  {
   "cell_type": "code",
   "execution_count": 82,
   "metadata": {},
   "outputs": [],
   "source": [
    "#Indice para enumerar cada job de cada chunk\n",
    "i = 0"
   ]
  },
  {
   "cell_type": "code",
   "execution_count": 83,
   "metadata": {},
   "outputs": [],
   "source": [
    "#Array que almacena todos los nombres de jobs que están procesando todos los chunks\n",
    "nombresJobs = []"
   ]
  },
  {
   "cell_type": "code",
   "execution_count": 84,
   "metadata": {},
   "outputs": [
    {
     "name": "stdout",
     "output_type": "stream",
     "text": [
      "transcripcion-bda-20241021170243622703-0\n",
      "transcripcion-bda-20241021170243622703-1\n",
      "transcripcion-bda-20241021170243622703-2\n"
     ]
    }
   ],
   "source": [
    "#Iteramos cada chunk\n",
    "for chunk in audioChunks:\n",
    "  #Definimos el nombre del job\n",
    "  nombreDeJobParaElChunk = nombreDelJob + \"-\" + str(i)\n",
    "\n",
    "  #Imprimos el nombre del JOB\n",
    "  print(nombreDeJobParaElChunk)\n",
    "\n",
    "  #Lo almacenamos en el array\n",
    "  nombresJobs.append(nombreDeJobParaElChunk)\n",
    "\n",
    "  #Enviamos la consulta\n",
    "  #Es una consulta asíncrona\n",
    "  respuesta = transcribe.start_transcription_job(\n",
    "      TranscriptionJobName = nombreDeJobParaElChunk, #Nombre del JOB\n",
    "      LanguageCode = \"es-ES\", #Idioma del audio\n",
    "      MediaFormat = \"wav\", #Formato del audio\n",
    "      Media = {\n",
    "          \"MediaFileUri\": f\"s3://{bucket}/audios/chunk_{i}.wav\", #Ruta del chunk\n",
    "      }\n",
    "  )\n",
    "\n",
    "  #Aumentamos el índice\n",
    "  i = i + 1"
   ]
  },
  {
   "cell_type": "code",
   "execution_count": 85,
   "metadata": {},
   "outputs": [
    {
     "data": {
      "text/plain": [
       "['transcripcion-bda-20241021170243622703-0',\n",
       " 'transcripcion-bda-20241021170243622703-1',\n",
       " 'transcripcion-bda-20241021170243622703-2']"
      ]
     },
     "execution_count": 85,
     "metadata": {},
     "output_type": "execute_result"
    }
   ],
   "source": [
    "#Verificamos los nombres de JOBS\n",
    "nombresJobs"
   ]
  },
  {
   "cell_type": "markdown",
   "metadata": {},
   "source": [
    "# 6. Bucle de espera hasta la finalización del proceso"
   ]
  },
  {
   "cell_type": "code",
   "execution_count": 86,
   "metadata": {},
   "outputs": [],
   "source": [
    "#Array que almacena los estados de los jobs\n",
    "estados = []"
   ]
  },
  {
   "cell_type": "code",
   "execution_count": 87,
   "metadata": {},
   "outputs": [
    {
     "name": "stdout",
     "output_type": "stream",
     "text": [
      "IN_PROGRESS\n",
      "COMPLETED\n",
      "COMPLETED\n"
     ]
    }
   ],
   "source": [
    "#Obtenemos el estado de todos los jobs\n",
    "for nombreDelJob in nombresJobs:\n",
    "  #Obtenemos el job según su nombre\n",
    "  proceso = transcribe.get_transcription_job(TranscriptionJobName = nombreDelJob)\n",
    "\n",
    "  #Obtenemos el estado\n",
    "  estado = proceso[\"TranscriptionJob\"][\"TranscriptionJobStatus\"]\n",
    "\n",
    "  #Verificamos el estado\n",
    "  print(estado)\n",
    "\n",
    "  #Lo agregamos al array\n",
    "  estados.append(estado)"
   ]
  },
  {
   "cell_type": "code",
   "execution_count": 88,
   "metadata": {},
   "outputs": [
    {
     "data": {
      "text/plain": [
       "['IN_PROGRESS', 'COMPLETED', 'COMPLETED']"
      ]
     },
     "execution_count": 88,
     "metadata": {},
     "output_type": "execute_result"
    }
   ],
   "source": [
    "#Verificamos\n",
    "estados"
   ]
  },
  {
   "cell_type": "code",
   "execution_count": 89,
   "metadata": {},
   "outputs": [
    {
     "data": {
      "text/plain": [
       "3"
      ]
     },
     "execution_count": 89,
     "metadata": {},
     "output_type": "execute_result"
    }
   ],
   "source": [
    "#Verificamos que los tres estados estén en \"COMPLETED\" o en \"FAILED\"\n",
    "#Cantidad de jobs\n",
    "cantidadDeJobs = len(nombresJobs)\n",
    "\n",
    "#Verificamos\n",
    "cantidadDeJobs"
   ]
  },
  {
   "cell_type": "code",
   "execution_count": 90,
   "metadata": {},
   "outputs": [],
   "source": [
    "#Cuenta cuántos procesos han finalizado\n",
    "cantidadDeJobsFinalizados = 0"
   ]
  },
  {
   "cell_type": "code",
   "execution_count": 91,
   "metadata": {},
   "outputs": [],
   "source": [
    "#Verificamos\n",
    "for estado in estados:\n",
    "\n",
    "  #Verificamos el estado\n",
    "  if estado in [\"COMPLETED\", \"FAILED\"]:\n",
    "    #Aumentamos la cantidad de procesos finalizados en 1\n",
    "    cantidadDeJobsFinalizados = cantidadDeJobsFinalizados + 1"
   ]
  },
  {
   "cell_type": "code",
   "execution_count": 93,
   "metadata": {},
   "outputs": [
    {
     "name": "stdout",
     "output_type": "stream",
     "text": [
      "Procesando 2 de 3\n"
     ]
    }
   ],
   "source": [
    "#Verificamos\n",
    "if cantidadDeJobs == cantidadDeJobsFinalizados:\n",
    "  print(\"Proceso finalizado!\")\n",
    "else:\n",
    "  print(f\"Procesando {cantidadDeJobsFinalizados} de {cantidadDeJobs}\")"
   ]
  },
  {
   "cell_type": "code",
   "execution_count": 94,
   "metadata": {},
   "outputs": [],
   "source": [
    "#Librería para pausar el código\n",
    "import time"
   ]
  },
  {
   "cell_type": "markdown",
   "metadata": {},
   "source": [
    "# 7. Envío de consulta con chunks y bucle de espera"
   ]
  },
  {
   "cell_type": "code",
   "execution_count": 95,
   "metadata": {},
   "outputs": [
    {
     "name": "stdout",
     "output_type": "stream",
     "text": [
      "transcripcion-bda-20241021170551390415\n"
     ]
    }
   ],
   "source": [
    "#OBTENEMOS EL NOMBRE DEL JOB\n",
    "#Importamos la librería que manipula la fecha y hora\n",
    "from datetime import datetime\n",
    "\n",
    "#Obtenemos la fecha y hora actual\n",
    "fecha = datetime.today()\n",
    "\n",
    "# Formateamos la fecha y hora\n",
    "# Extraemos:\n",
    "#\n",
    "# - El año: %Y\n",
    "# - El mes: %m\n",
    "# - El día: %d\n",
    "# - La hora: %H\n",
    "# - El minuto: %M\n",
    "# - El segundo: %S\n",
    "# - El microsegundo: %f\n",
    "fechaStr = fecha.strftime(\"%Y%m%d%H%M%S%f\")\n",
    "\n",
    "#Colocamos el nombre del JOB de la transcripción\n",
    "nombreDelJob = f\"transcripcion-bda-{fechaStr}\"\n",
    "\n",
    "#Verificamos\n",
    "print(nombreDelJob)"
   ]
  },
  {
   "cell_type": "code",
   "execution_count": 96,
   "metadata": {},
   "outputs": [
    {
     "name": "stdout",
     "output_type": "stream",
     "text": [
      "transcripcion-bda-20241021170551390415-0\n",
      "transcripcion-bda-20241021170551390415-1\n",
      "transcripcion-bda-20241021170551390415-2\n"
     ]
    }
   ],
   "source": [
    "#ENVIAMOS LA CONSULTA\n",
    "#Indice para enumerar cada job de cada chunk\n",
    "i = 0\n",
    "\n",
    "#Array que almacena todos los nombres de jobs que están procesando todos los chunks\n",
    "nombresJobs = []\n",
    "\n",
    "#Iteramos cada chunk\n",
    "for chunk in audioChunks:\n",
    "  #Definimos el nombre del job\n",
    "  nombreDeJobParaElChunk = nombreDelJob + \"-\" + str(i)\n",
    "\n",
    "  #Imprimos el nombre del JOB\n",
    "  print(nombreDeJobParaElChunk)\n",
    "\n",
    "  #Lo almacenamos en el array\n",
    "  nombresJobs.append(nombreDeJobParaElChunk)\n",
    "\n",
    "  #Enviamos la consulta\n",
    "  #Es una consulta asíncrona\n",
    "  respuesta = transcribe.start_transcription_job(\n",
    "      TranscriptionJobName = nombreDeJobParaElChunk, #Nombre del JOB\n",
    "      LanguageCode = \"es-ES\", #Idioma del audio\n",
    "      MediaFormat = \"wav\", #Formato del audio\n",
    "      Media = {\n",
    "          \"MediaFileUri\": f\"s3://{bucket}/audios/chunk_{i}.wav\", #Ruta del chunk\n",
    "      }\n",
    "  )\n",
    "\n",
    "  #Aumentamos el índice\n",
    "  i = i + 1"
   ]
  },
  {
   "cell_type": "code",
   "execution_count": 97,
   "metadata": {},
   "outputs": [
    {
     "name": "stdout",
     "output_type": "stream",
     "text": [
      "Procesando 1 de 3\n",
      "Procesando 1 de 3\n",
      "Procesando 1 de 3\n",
      "Procesando 1 de 3\n",
      "Procesando 2 de 3\n",
      "Proceso finalizado!\n"
     ]
    }
   ],
   "source": [
    "#Librería para pausar el código\n",
    "import time\n",
    "\n",
    "#Entramos en bucle infinito\n",
    "#TIEMPO: 1 MINUTO\n",
    "while True:\n",
    "\n",
    "  #Array que almacena los estados de los jobs\n",
    "  estados = []\n",
    "\n",
    "  #Obtenemos el estado de todos los jobs\n",
    "  for nombreDelJob in nombresJobs:\n",
    "    #Obtenemos el job según su nombre\n",
    "    proceso = transcribe.get_transcription_job(TranscriptionJobName = nombreDelJob)\n",
    "\n",
    "    #Obtenemos el estado\n",
    "    estado = proceso[\"TranscriptionJob\"][\"TranscriptionJobStatus\"]\n",
    "\n",
    "    #Lo agregamos al array\n",
    "    estados.append(estado)\n",
    "\n",
    "  #Verificamos que los tres estados estén en \"COMPLETED\" o en \"FAILED\"\n",
    "  #Cantidad de jobs\n",
    "  cantidadDeJobs = len(nombresJobs)\n",
    "\n",
    "  #Cuenta cuántos procesos han finalizado\n",
    "  cantidadDeJobsFinalizados = 0\n",
    "\n",
    "  #Verificamos\n",
    "  for estado in estados:\n",
    "\n",
    "    #Verificamos el estado\n",
    "    if estado in [\"COMPLETED\", \"FAILED\"]:\n",
    "      #Aumentamos la cantidad de procesos finalizados en 1\n",
    "      cantidadDeJobsFinalizados = cantidadDeJobsFinalizados + 1\n",
    "\n",
    "  #Verificamos\n",
    "  if cantidadDeJobs == cantidadDeJobsFinalizados:\n",
    "    #Indicamos la finalización del proceso\n",
    "    print(\"Proceso finalizado!\")\n",
    "\n",
    "    #Si finalizó, salimos del bucle infinito\n",
    "    break\n",
    "  else:\n",
    "    #Mostramos el estado del proceso\n",
    "    print(f\"Procesando {cantidadDeJobsFinalizados} de {cantidadDeJobs}\")\n",
    "\n",
    "  #Detenemos el código por 5 segundos antes de repetir el bucle\n",
    "  time.sleep(5)"
   ]
  },
  {
   "cell_type": "markdown",
   "metadata": {},
   "source": [
    "# 8. Extracción de la respuesta"
   ]
  },
  {
   "cell_type": "code",
   "execution_count": 98,
   "metadata": {},
   "outputs": [],
   "source": [
    "#Variable que acumula los textos de los chunks de audio\n",
    "transcripcionCompleta = \"\""
   ]
  },
  {
   "cell_type": "code",
   "execution_count": 101,
   "metadata": {},
   "outputs": [
    {
     "name": "stdout",
     "output_type": "stream",
     "text": [
      "Extrayendo texto del job transcripcion-bda-20241021170551390415-0\n",
      "Hola, Santiago. Cómo estás? Te habla Andrés, asesor comercial y encargado de tu servicio telefónico.\n",
      "Extrayendo texto del job transcripcion-bda-20241021170551390415-1\n",
      "Cómo estás? Ah, bien. Gracias. No, no estoy interesado. Muchísimas gracias. Mira, Santiago, el motivo?\n",
      "Extrayendo texto del job transcripcion-bda-20241021170551390415-2\n",
      "\n"
     ]
    }
   ],
   "source": [
    "#Librería para descargar desde enlaces\n",
    "import requests\n",
    "\n",
    "#Librería para manipular JSONs\n",
    "import json\n",
    "\n",
    "#Obtenemos los textos de cada job\n",
    "for nombreDelJob in nombresJobs:\n",
    "  print(f\"Extrayendo texto del job {nombreDelJob}\")\n",
    "\n",
    "  #Obtenemos el job según su nombre\n",
    "  proceso = transcribe.get_transcription_job(TranscriptionJobName = nombreDelJob)\n",
    "\n",
    "  #Definimos la URL en donde se encuentra la transcripción\n",
    "  urlDeTranscripcion = proceso[\"TranscriptionJob\"][\"Transcript\"][\"TranscriptFileUri\"]\n",
    "\n",
    "  #Descargamos el archivo\n",
    "  archivo = requests.get(urlDeTranscripcion)\n",
    "\n",
    "  #Convertimos el contenido del archivo en un JSON\n",
    "  archivoJson = archivo.json()\n",
    "\n",
    "  #Extraemos la transcripción\n",
    "  transcripcion = archivoJson[\"results\"][\"transcripts\"][0][\"transcript\"]\n",
    "\n",
    "  #Mostramos la transcripcion\n",
    "  print(transcripcion)\n",
    "\n",
    "  #Acumulamos la transcripcion\n",
    "  transcripcionCompleta = transcripcionCompleta + \" \" + transcripcion"
   ]
  },
  {
   "cell_type": "code",
   "execution_count": 102,
   "metadata": {},
   "outputs": [
    {
     "data": {
      "text/plain": [
       "' Hola, Santiago. Cómo estás? Te habla Andrés, asesor comercial y encargado de tu servicio telefónico. Cómo estás? Ah, bien. Gracias. No, no estoy interesado. Muchísimas gracias. Mira, Santiago, el motivo? '"
      ]
     },
     "execution_count": 102,
     "metadata": {},
     "output_type": "execute_result"
    }
   ],
   "source": [
    "#Verificamos\n",
    "transcripcionCompleta"
   ]
  },
  {
   "cell_type": "markdown",
   "metadata": {},
   "source": [
    "# 9. Almacenamiento"
   ]
  },
  {
   "cell_type": "code",
   "execution_count": 104,
   "metadata": {},
   "outputs": [],
   "source": [
    "#Abrimos un archivo en modo escritura\n",
    "with open(\"./content/transcripcion.txt\", \"w\") as archivo:\n",
    "    #Escribimos el contenido en el archivo\n",
    "    archivo.write(transcripcionCompleta)\n",
    "\n",
    "#Obtenemos el cliente de servicio\n",
    "s3 = boto3.client(\n",
    "  \"s3\", #Servicio al que nos conectamos\n",
    "  aws_access_key_id = access_key_id, #Identificador de la clave\n",
    "  aws_secret_access_key = secret_access_key, #Contraseña de la clave\n",
    "  region_name = region #Región de la clave\n",
    ")\n",
    "\n",
    "#Subimos el archivo a AWS\n",
    "s3.upload_file(\n",
    "  \"./content/transcripcion.txt\",\n",
    "  bucket,\n",
    "  \"output/transcripcion.txt\"\n",
    ")\n",
    "\n",
    "#Verificamos desde el portal de AWS"
   ]
  }
 ],
 "metadata": {
  "kernelspec": {
   "display_name": "Python 3",
   "language": "python",
   "name": "python3"
  },
  "language_info": {
   "codemirror_mode": {
    "name": "ipython",
    "version": 3
   },
   "file_extension": ".py",
   "mimetype": "text/x-python",
   "name": "python",
   "nbconvert_exporter": "python",
   "pygments_lexer": "ipython3",
   "version": "3.9.0"
  }
 },
 "nbformat": 4,
 "nbformat_minor": 2
}
